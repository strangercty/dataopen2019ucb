{
 "cells": [
  {
   "cell_type": "markdown",
   "metadata": {},
   "source": [
    "## Bill Data"
   ]
  },
  {
   "cell_type": "code",
   "execution_count": 236,
   "metadata": {},
   "outputs": [],
   "source": [
    "import pandas as pd\n",
    "bill=pd.read_csv('uk_bill_data.csv', sep=',')"
   ]
  },
  {
   "cell_type": "code",
   "execution_count": 237,
   "metadata": {},
   "outputs": [
    {
     "data": {
      "text/plain": [
       "(890, 7)"
      ]
     },
     "execution_count": 237,
     "metadata": {},
     "output_type": "execute_result"
    }
   ],
   "source": [
    "bill.shape"
   ]
  },
  {
   "cell_type": "code",
   "execution_count": 238,
   "metadata": {},
   "outputs": [
    {
     "data": {
      "text/html": [
       "<div>\n",
       "<style scoped>\n",
       "    .dataframe tbody tr th:only-of-type {\n",
       "        vertical-align: middle;\n",
       "    }\n",
       "\n",
       "    .dataframe tbody tr th {\n",
       "        vertical-align: top;\n",
       "    }\n",
       "\n",
       "    .dataframe thead th {\n",
       "        text-align: right;\n",
       "    }\n",
       "</style>\n",
       "<table border=\"1\" class=\"dataframe\">\n",
       "  <thead>\n",
       "    <tr style=\"text-align: right;\">\n",
       "      <th></th>\n",
       "      <th>act_name</th>\n",
       "      <th>date_of_act</th>\n",
       "      <th>amendment</th>\n",
       "      <th>characters_in_act</th>\n",
       "      <th>words_in_act</th>\n",
       "      <th>link_to_act</th>\n",
       "      <th>act_text</th>\n",
       "    </tr>\n",
       "  </thead>\n",
       "  <tbody>\n",
       "    <tr>\n",
       "      <th>0</th>\n",
       "      <td>Finance Act 2019</td>\n",
       "      <td>12th February 2019</td>\n",
       "      <td>FALSE</td>\n",
       "      <td>750386</td>\n",
       "      <td>112867</td>\n",
       "      <td>https://www.legislation.gov.uk/ukpga/2019/1/en...</td>\n",
       "      <td>Most Gracious Sovereign WE; Your Majestys most...</td>\n",
       "    </tr>\n",
       "    <tr>\n",
       "      <th>1</th>\n",
       "      <td>Voyeurism (Offences) Act 2019</td>\n",
       "      <td>12th February 2019</td>\n",
       "      <td>FALSE</td>\n",
       "      <td>4448</td>\n",
       "      <td>638</td>\n",
       "      <td>https://www.legislation.gov.uk/ukpga/2019/2/en...</td>\n",
       "      <td>Be it enacted by the Queens most Excellent Maj...</td>\n",
       "    </tr>\n",
       "    <tr>\n",
       "      <th>2</th>\n",
       "      <td>Counter-Terrorism and Border Security Act 2019</td>\n",
       "      <td>12th February 2019</td>\n",
       "      <td>FALSE</td>\n",
       "      <td>219375</td>\n",
       "      <td>31598</td>\n",
       "      <td>https://www.legislation.gov.uk/ukpga/2019/3/en...</td>\n",
       "      <td>Be it enacted by the Queens most Excellent Maj...</td>\n",
       "    </tr>\n",
       "    <tr>\n",
       "      <th>3</th>\n",
       "      <td>Tenant Fees Act 2019</td>\n",
       "      <td>12th February 2019</td>\n",
       "      <td>FALSE</td>\n",
       "      <td>90209</td>\n",
       "      <td>13780</td>\n",
       "      <td>https://www.legislation.gov.uk/ukpga/2019/4/en...</td>\n",
       "      <td>Be it enacted by the Queens most Excellent Maj...</td>\n",
       "    </tr>\n",
       "    <tr>\n",
       "      <th>4</th>\n",
       "      <td>Crime (Overseas Production Orders) Act 2019</td>\n",
       "      <td>12th February 2019</td>\n",
       "      <td>FALSE</td>\n",
       "      <td>39296</td>\n",
       "      <td>5885</td>\n",
       "      <td>https://www.legislation.gov.uk/ukpga/2019/5/en...</td>\n",
       "      <td>Be it enacted by the Queens most Excellent Maj...</td>\n",
       "    </tr>\n",
       "  </tbody>\n",
       "</table>\n",
       "</div>"
      ],
      "text/plain": [
       "                                         act_name         date_of_act  \\\n",
       "0                                Finance Act 2019  12th February 2019   \n",
       "1                   Voyeurism (Offences) Act 2019  12th February 2019   \n",
       "2  Counter-Terrorism and Border Security Act 2019  12th February 2019   \n",
       "3                            Tenant Fees Act 2019  12th February 2019   \n",
       "4     Crime (Overseas Production Orders) Act 2019  12th February 2019   \n",
       "\n",
       "  amendment characters_in_act words_in_act  \\\n",
       "0     FALSE            750386       112867   \n",
       "1     FALSE              4448          638   \n",
       "2     FALSE            219375        31598   \n",
       "3     FALSE             90209        13780   \n",
       "4     FALSE             39296         5885   \n",
       "\n",
       "                                         link_to_act  \\\n",
       "0  https://www.legislation.gov.uk/ukpga/2019/1/en...   \n",
       "1  https://www.legislation.gov.uk/ukpga/2019/2/en...   \n",
       "2  https://www.legislation.gov.uk/ukpga/2019/3/en...   \n",
       "3  https://www.legislation.gov.uk/ukpga/2019/4/en...   \n",
       "4  https://www.legislation.gov.uk/ukpga/2019/5/en...   \n",
       "\n",
       "                                            act_text  \n",
       "0  Most Gracious Sovereign WE; Your Majestys most...  \n",
       "1  Be it enacted by the Queens most Excellent Maj...  \n",
       "2  Be it enacted by the Queens most Excellent Maj...  \n",
       "3  Be it enacted by the Queens most Excellent Maj...  \n",
       "4  Be it enacted by the Queens most Excellent Maj...  "
      ]
     },
     "execution_count": 238,
     "metadata": {},
     "output_type": "execute_result"
    }
   ],
   "source": [
    "bill.head()"
   ]
  },
  {
   "cell_type": "code",
   "execution_count": 251,
   "metadata": {},
   "outputs": [],
   "source": [
    "req_bill=bill[bill.act_text.str.contains(\"health\")]"
   ]
  },
  {
   "cell_type": "code",
   "execution_count": 252,
   "metadata": {},
   "outputs": [
    {
     "data": {
      "text/plain": [
       "(241, 7)"
      ]
     },
     "execution_count": 252,
     "metadata": {},
     "output_type": "execute_result"
    }
   ],
   "source": [
    "req_bill.shape"
   ]
  },
  {
   "cell_type": "code",
   "execution_count": 253,
   "metadata": {},
   "outputs": [
    {
     "data": {
      "text/plain": [
       "Index(['act_name', 'date_of_act', 'amendment', 'characters_in_act',\n",
       "       'words_in_act', 'link_to_act', 'act_text'],\n",
       "      dtype='object')"
      ]
     },
     "execution_count": 253,
     "metadata": {},
     "output_type": "execute_result"
    }
   ],
   "source": [
    "req_bill.columns"
   ]
  },
  {
   "cell_type": "code",
   "execution_count": 254,
   "metadata": {},
   "outputs": [
    {
     "name": "stderr",
     "output_type": "stream",
     "text": [
      "C:\\Users\\admin\\Anaconda3\\lib\\site-packages\\ipykernel_launcher.py:1: SettingWithCopyWarning: \n",
      "A value is trying to be set on a copy of a slice from a DataFrame.\n",
      "Try using .loc[row_indexer,col_indexer] = value instead\n",
      "\n",
      "See the caveats in the documentation: http://pandas.pydata.org/pandas-docs/stable/indexing.html#indexing-view-versus-copy\n",
      "  \"\"\"Entry point for launching an IPython kernel.\n"
     ]
    }
   ],
   "source": [
    "req_bill['year']=req_bill['date_of_act'].str.split().str[-1]"
   ]
  },
  {
   "cell_type": "code",
   "execution_count": 255,
   "metadata": {},
   "outputs": [
    {
     "name": "stderr",
     "output_type": "stream",
     "text": [
      "C:\\Users\\admin\\Anaconda3\\lib\\site-packages\\ipykernel_launcher.py:1: SettingWithCopyWarning: \n",
      "A value is trying to be set on a copy of a slice from a DataFrame.\n",
      "Try using .loc[row_indexer,col_indexer] = value instead\n",
      "\n",
      "See the caveats in the documentation: http://pandas.pydata.org/pandas-docs/stable/indexing.html#indexing-view-versus-copy\n",
      "  \"\"\"Entry point for launching an IPython kernel.\n"
     ]
    }
   ],
   "source": [
    "req_bill['month']=req_bill['date_of_act'].str.split().str[1]"
   ]
  },
  {
   "cell_type": "code",
   "execution_count": 256,
   "metadata": {},
   "outputs": [],
   "source": [
    "req_bill_yr=req_bill[req_bill.year.isin(['2016','2017','2018','2019'])]"
   ]
  },
  {
   "cell_type": "code",
   "execution_count": 257,
   "metadata": {},
   "outputs": [
    {
     "data": {
      "text/html": [
       "<div>\n",
       "<style scoped>\n",
       "    .dataframe tbody tr th:only-of-type {\n",
       "        vertical-align: middle;\n",
       "    }\n",
       "\n",
       "    .dataframe tbody tr th {\n",
       "        vertical-align: top;\n",
       "    }\n",
       "\n",
       "    .dataframe thead th {\n",
       "        text-align: right;\n",
       "    }\n",
       "</style>\n",
       "<table border=\"1\" class=\"dataframe\">\n",
       "  <thead>\n",
       "    <tr style=\"text-align: right;\">\n",
       "      <th></th>\n",
       "      <th>act_name</th>\n",
       "      <th>date_of_act</th>\n",
       "      <th>amendment</th>\n",
       "      <th>characters_in_act</th>\n",
       "      <th>words_in_act</th>\n",
       "      <th>link_to_act</th>\n",
       "      <th>act_text</th>\n",
       "      <th>year</th>\n",
       "      <th>month</th>\n",
       "    </tr>\n",
       "  </thead>\n",
       "  <tbody>\n",
       "    <tr>\n",
       "      <th>0</th>\n",
       "      <td>Finance Act 2019</td>\n",
       "      <td>12th February 2019</td>\n",
       "      <td>FALSE</td>\n",
       "      <td>750386</td>\n",
       "      <td>112867</td>\n",
       "      <td>https://www.legislation.gov.uk/ukpga/2019/1/en...</td>\n",
       "      <td>Most Gracious Sovereign WE; Your Majestys most...</td>\n",
       "      <td>2019</td>\n",
       "      <td>February</td>\n",
       "    </tr>\n",
       "    <tr>\n",
       "      <th>2</th>\n",
       "      <td>Counter-Terrorism and Border Security Act 2019</td>\n",
       "      <td>12th February 2019</td>\n",
       "      <td>FALSE</td>\n",
       "      <td>219375</td>\n",
       "      <td>31598</td>\n",
       "      <td>https://www.legislation.gov.uk/ukpga/2019/3/en...</td>\n",
       "      <td>Be it enacted by the Queens most Excellent Maj...</td>\n",
       "      <td>2019</td>\n",
       "      <td>February</td>\n",
       "    </tr>\n",
       "    <tr>\n",
       "      <th>4</th>\n",
       "      <td>Crime (Overseas Production Orders) Act 2019</td>\n",
       "      <td>12th February 2019</td>\n",
       "      <td>FALSE</td>\n",
       "      <td>39296</td>\n",
       "      <td>5885</td>\n",
       "      <td>https://www.legislation.gov.uk/ukpga/2019/5/en...</td>\n",
       "      <td>Be it enacted by the Queens most Excellent Maj...</td>\n",
       "      <td>2019</td>\n",
       "      <td>February</td>\n",
       "    </tr>\n",
       "    <tr>\n",
       "      <th>5</th>\n",
       "      <td>Supply and Appropriation (Anticipation and Adj...</td>\n",
       "      <td>15th March 2019</td>\n",
       "      <td>FALSE</td>\n",
       "      <td>138031</td>\n",
       "      <td>16571</td>\n",
       "      <td>https://www.legislation.gov.uk/ukpga/2019/6/en...</td>\n",
       "      <td>Whereas the Commons of the United Kingdom in P...</td>\n",
       "      <td>2019</td>\n",
       "      <td>March</td>\n",
       "    </tr>\n",
       "    <tr>\n",
       "      <th>10</th>\n",
       "      <td>Northern Ireland Budget (Anticipation and Adju...</td>\n",
       "      <td>15th March 2019</td>\n",
       "      <td>FALSE</td>\n",
       "      <td>90628</td>\n",
       "      <td>11808</td>\n",
       "      <td>https://www.legislation.gov.uk/ukpga/2019/11/e...</td>\n",
       "      <td>Be it enacted by the Queens most Excellent Maj...</td>\n",
       "      <td>2019</td>\n",
       "      <td>March</td>\n",
       "    </tr>\n",
       "  </tbody>\n",
       "</table>\n",
       "</div>"
      ],
      "text/plain": [
       "                                             act_name         date_of_act  \\\n",
       "0                                    Finance Act 2019  12th February 2019   \n",
       "2      Counter-Terrorism and Border Security Act 2019  12th February 2019   \n",
       "4         Crime (Overseas Production Orders) Act 2019  12th February 2019   \n",
       "5   Supply and Appropriation (Anticipation and Adj...     15th March 2019   \n",
       "10  Northern Ireland Budget (Anticipation and Adju...     15th March 2019   \n",
       "\n",
       "   amendment characters_in_act words_in_act  \\\n",
       "0      FALSE            750386       112867   \n",
       "2      FALSE            219375        31598   \n",
       "4      FALSE             39296         5885   \n",
       "5      FALSE            138031        16571   \n",
       "10     FALSE             90628        11808   \n",
       "\n",
       "                                          link_to_act  \\\n",
       "0   https://www.legislation.gov.uk/ukpga/2019/1/en...   \n",
       "2   https://www.legislation.gov.uk/ukpga/2019/3/en...   \n",
       "4   https://www.legislation.gov.uk/ukpga/2019/5/en...   \n",
       "5   https://www.legislation.gov.uk/ukpga/2019/6/en...   \n",
       "10  https://www.legislation.gov.uk/ukpga/2019/11/e...   \n",
       "\n",
       "                                             act_text  year     month  \n",
       "0   Most Gracious Sovereign WE; Your Majestys most...  2019  February  \n",
       "2   Be it enacted by the Queens most Excellent Maj...  2019  February  \n",
       "4   Be it enacted by the Queens most Excellent Maj...  2019  February  \n",
       "5   Whereas the Commons of the United Kingdom in P...  2019     March  \n",
       "10  Be it enacted by the Queens most Excellent Maj...  2019     March  "
      ]
     },
     "execution_count": 257,
     "metadata": {},
     "output_type": "execute_result"
    }
   ],
   "source": [
    "req_bill_yr.head()"
   ]
  },
  {
   "cell_type": "code",
   "execution_count": 269,
   "metadata": {},
   "outputs": [
    {
     "data": {
      "text/plain": [
       "Text(0, 0.5, 'Number of bills')"
      ]
     },
     "execution_count": 269,
     "metadata": {},
     "output_type": "execute_result"
    },
    {
     "data": {
      "image/png": "[encoded data removed]",
      "text/plain": [
       "<Figure size 1080x720 with 1 Axes>"
      ]
     },
     "metadata": {
      "needs_background": "light"
     },
     "output_type": "display_data"
    }
   ],
   "source": [
    "req_bill_yr.groupby(['year','month']).act_name.count().plot(title=\"Healthcare bills\", figsize=(15,10))\n",
    "plt.ylabel('Number of bills')"
   ]
  },
  {
   "cell_type": "code",
   "execution_count": 261,
   "metadata": {},
   "outputs": [],
   "source": [
    "req_bill_grp=req_bill_yr.groupby(['year','month']).act_name.count()"
   ]
  },
  {
   "cell_type": "code",
   "execution_count": 263,
   "metadata": {},
   "outputs": [
    {
     "data": {
      "text/plain": [
       "year  month    \n",
       "2016  January      2\n",
       "      July         1\n",
       "      March        3\n",
       "      May          4\n",
       "      November     1\n",
       "      September    1\n",
       "2017  April        5\n",
       "      February     1\n",
       "      January      2\n",
       "      July         1\n",
       "      March        1\n",
       "      November     2\n",
       "2018  December     1\n",
       "      July         2\n",
       "      March        3\n",
       "      May          1\n",
       "      November     1\n",
       "      September    1\n",
       "2019  February     3\n",
       "      July         3\n",
       "      March        3\n",
       "      May          1\n",
       "Name: act_name, dtype: int64"
      ]
     },
     "execution_count": 263,
     "metadata": {},
     "output_type": "execute_result"
    }
   ],
   "source": [
    "req_bill_grp"
   ]
  },
  {
   "cell_type": "code",
   "execution_count": 211,
   "metadata": {},
   "outputs": [],
   "source": [
    "immig_bill=bill[bill.act_text.str.contains(\"immigrant\")]"
   ]
  },
  {
   "cell_type": "code",
   "execution_count": 27,
   "metadata": {},
   "outputs": [],
   "source": [
    "import matplotlib.pyplot as plt"
   ]
  },
  {
   "cell_type": "markdown",
   "metadata": {},
   "source": [
    "## London Stock Exchange"
   ]
  },
  {
   "cell_type": "code",
   "execution_count": 157,
   "metadata": {},
   "outputs": [],
   "source": [
    "lse=pd.read_csv(\"lse_historical_data.csv\", sep=',')"
   ]
  },
  {
   "cell_type": "code",
   "execution_count": 158,
   "metadata": {},
   "outputs": [
    {
     "data": {
      "text/plain": [
       "Index(['year', 'month', 'ticker', 'list_date', 'company_name', 'icb_industry',\n",
       "       'ice_supersector', 'country_of_incorporation', 'market_cap', 'eps',\n",
       "       'p/e', 'p/s'],\n",
       "      dtype='object')"
      ]
     },
     "execution_count": 158,
     "metadata": {},
     "output_type": "execute_result"
    }
   ],
   "source": [
    "lse.columns"
   ]
  },
  {
   "cell_type": "code",
   "execution_count": 159,
   "metadata": {},
   "outputs": [
    {
     "data": {
      "text/plain": [
       "array(['Financial Services', 'Industrial Goods & Services', 'Healthcare',\n",
       "       'Media', 'Oil & Gas', 'Technology', 'Personal & Household Goods',\n",
       "       'Construction & Materials', nan, 'Real Estate',\n",
       "       'Telecommunications', 'Insurance', 'Basic Resources', 'Utilities',\n",
       "       'Food & Beverage', 'Banks', 'Retail', 'Chemicals',\n",
       "       'Travel & Leisure', 'Automobiles & Parts',\n",
       "       'Equity Investment Instruments', 'General Financial',\n",
       "       'Technology Hardware & Equipment',\n",
       "       'Real Estate Investment & Services', 'Mining',\n",
       "       'Oil & Gas Producers', 'Electricity', 'Health Care',\n",
       "       'Financial Services ', 'Industrial Goods and Services',\n",
       "       'Health Care  ', 'Energy', 'Automobiles and Parts',\n",
       "       'Personal Care; Drug and Grocery Stores ',\n",
       "       'Construction and Materials', 'Real Estate ',\n",
       "       'Food; Beverage and Tobacco ', 'Consumer Products and Services',\n",
       "       'Retail ', 'Travel and Leisure', 'Software & Computer Services'],\n",
       "      dtype=object)"
      ]
     },
     "execution_count": 159,
     "metadata": {},
     "output_type": "execute_result"
    }
   ],
   "source": [
    "lse.icb_industry.unique()"
   ]
  },
  {
   "cell_type": "code",
   "execution_count": 160,
   "metadata": {},
   "outputs": [],
   "source": [
    "req_lse=lse.dropna(subset=['icb_industry'])"
   ]
  },
  {
   "cell_type": "code",
   "execution_count": 161,
   "metadata": {},
   "outputs": [
    {
     "data": {
      "text/plain": [
       "array(['Financial Services', 'Industrial Goods & Services', 'Healthcare',\n",
       "       'Media', 'Oil & Gas', 'Technology', 'Personal & Household Goods',\n",
       "       'Construction & Materials', 'Real Estate', 'Telecommunications',\n",
       "       'Insurance', 'Basic Resources', 'Utilities', 'Food & Beverage',\n",
       "       'Banks', 'Retail', 'Chemicals', 'Travel & Leisure',\n",
       "       'Automobiles & Parts', 'Equity Investment Instruments',\n",
       "       'General Financial', 'Technology Hardware & Equipment',\n",
       "       'Real Estate Investment & Services', 'Mining',\n",
       "       'Oil & Gas Producers', 'Electricity', 'Health Care',\n",
       "       'Financial Services ', 'Industrial Goods and Services',\n",
       "       'Health Care  ', 'Energy', 'Automobiles and Parts',\n",
       "       'Personal Care; Drug and Grocery Stores ',\n",
       "       'Construction and Materials', 'Real Estate ',\n",
       "       'Food; Beverage and Tobacco ', 'Consumer Products and Services',\n",
       "       'Retail ', 'Travel and Leisure', 'Software & Computer Services'],\n",
       "      dtype=object)"
      ]
     },
     "execution_count": 161,
     "metadata": {},
     "output_type": "execute_result"
    }
   ],
   "source": [
    "req_lse.icb_industry.unique()"
   ]
  },
  {
   "cell_type": "code",
   "execution_count": 162,
   "metadata": {},
   "outputs": [],
   "source": [
    "req_lse=req_lse[req_lse.icb_industry.str.contains('Health')]"
   ]
  },
  {
   "cell_type": "code",
   "execution_count": 163,
   "metadata": {},
   "outputs": [
    {
     "data": {
      "text/plain": [
       "Index(['year', 'month', 'ticker', 'list_date', 'company_name', 'icb_industry',\n",
       "       'ice_supersector', 'country_of_incorporation', 'market_cap', 'eps',\n",
       "       'p/e', 'p/s'],\n",
       "      dtype='object')"
      ]
     },
     "execution_count": 163,
     "metadata": {},
     "output_type": "execute_result"
    }
   ],
   "source": [
    "req_lse.columns"
   ]
  },
  {
   "cell_type": "code",
   "execution_count": 164,
   "metadata": {},
   "outputs": [
    {
     "data": {
      "text/plain": [
       "year                         int64\n",
       "month                        int64\n",
       "ticker                      object\n",
       "list_date                   object\n",
       "company_name                object\n",
       "icb_industry                object\n",
       "ice_supersector             object\n",
       "country_of_incorporation    object\n",
       "market_cap                  object\n",
       "eps                         object\n",
       "p/e                         object\n",
       "p/s                         object\n",
       "dtype: object"
      ]
     },
     "execution_count": 164,
     "metadata": {},
     "output_type": "execute_result"
    }
   ],
   "source": [
    "req_lse.dtypes"
   ]
  },
  {
   "cell_type": "code",
   "execution_count": 165,
   "metadata": {},
   "outputs": [
    {
     "data": {
      "text/html": [
       "<div>\n",
       "<style scoped>\n",
       "    .dataframe tbody tr th:only-of-type {\n",
       "        vertical-align: middle;\n",
       "    }\n",
       "\n",
       "    .dataframe tbody tr th {\n",
       "        vertical-align: top;\n",
       "    }\n",
       "\n",
       "    .dataframe thead th {\n",
       "        text-align: right;\n",
       "    }\n",
       "</style>\n",
       "<table border=\"1\" class=\"dataframe\">\n",
       "  <thead>\n",
       "    <tr style=\"text-align: right;\">\n",
       "      <th></th>\n",
       "      <th>year</th>\n",
       "      <th>month</th>\n",
       "      <th>ticker</th>\n",
       "      <th>list_date</th>\n",
       "      <th>company_name</th>\n",
       "      <th>icb_industry</th>\n",
       "      <th>ice_supersector</th>\n",
       "      <th>country_of_incorporation</th>\n",
       "      <th>market_cap</th>\n",
       "      <th>eps</th>\n",
       "      <th>p/e</th>\n",
       "      <th>p/s</th>\n",
       "    </tr>\n",
       "  </thead>\n",
       "  <tbody>\n",
       "    <tr>\n",
       "      <th>4</th>\n",
       "      <td>2017</td>\n",
       "      <td>11</td>\n",
       "      <td>DDDD</td>\n",
       "      <td>2/18/14</td>\n",
       "      <td>4D PHARMA PLC</td>\n",
       "      <td>Healthcare</td>\n",
       "      <td>Health Care</td>\n",
       "      <td>United Kingdom</td>\n",
       "      <td>221.041717</td>\n",
       "      <td>-</td>\n",
       "      <td>-</td>\n",
       "      <td>-</td>\n",
       "    </tr>\n",
       "    <tr>\n",
       "      <th>9</th>\n",
       "      <td>2017</td>\n",
       "      <td>11</td>\n",
       "      <td>ABC</td>\n",
       "      <td>11-03-2005</td>\n",
       "      <td>ABCAM PLC</td>\n",
       "      <td>Healthcare</td>\n",
       "      <td>Health Care</td>\n",
       "      <td>United Kingdom</td>\n",
       "      <td>2011.595728</td>\n",
       "      <td>-</td>\n",
       "      <td>-</td>\n",
       "      <td>-</td>\n",
       "    </tr>\n",
       "    <tr>\n",
       "      <th>33</th>\n",
       "      <td>2017</td>\n",
       "      <td>11</td>\n",
       "      <td>AMS</td>\n",
       "      <td>4/30/02</td>\n",
       "      <td>ADVANCED MEDICAL SOLUTIONS GROUP PLC</td>\n",
       "      <td>Healthcare</td>\n",
       "      <td>Health Care</td>\n",
       "      <td>United Kingdom</td>\n",
       "      <td>667.872077</td>\n",
       "      <td>-</td>\n",
       "      <td>-</td>\n",
       "      <td>-</td>\n",
       "    </tr>\n",
       "    <tr>\n",
       "      <th>34</th>\n",
       "      <td>2017</td>\n",
       "      <td>11</td>\n",
       "      <td>AVO</td>\n",
       "      <td>08-04-2006</td>\n",
       "      <td>ADVANCED ONCOTHERAPY PLC</td>\n",
       "      <td>Healthcare</td>\n",
       "      <td>Health Care</td>\n",
       "      <td>United Kingdom</td>\n",
       "      <td>22.257178</td>\n",
       "      <td>-</td>\n",
       "      <td>-</td>\n",
       "      <td>-</td>\n",
       "    </tr>\n",
       "    <tr>\n",
       "      <th>59</th>\n",
       "      <td>2017</td>\n",
       "      <td>11</td>\n",
       "      <td>APH</td>\n",
       "      <td>12/17/15</td>\n",
       "      <td>ALLIANCE PHARMA PLC</td>\n",
       "      <td>Healthcare</td>\n",
       "      <td>Health Care</td>\n",
       "      <td>United Kingdom</td>\n",
       "      <td>279.841478</td>\n",
       "      <td>-</td>\n",
       "      <td>-</td>\n",
       "      <td>-</td>\n",
       "    </tr>\n",
       "  </tbody>\n",
       "</table>\n",
       "</div>"
      ],
      "text/plain": [
       "    year  month ticker   list_date                          company_name  \\\n",
       "4   2017     11   DDDD     2/18/14                         4D PHARMA PLC   \n",
       "9   2017     11    ABC  11-03-2005                             ABCAM PLC   \n",
       "33  2017     11    AMS     4/30/02  ADVANCED MEDICAL SOLUTIONS GROUP PLC   \n",
       "34  2017     11    AVO  08-04-2006              ADVANCED ONCOTHERAPY PLC   \n",
       "59  2017     11    APH    12/17/15                   ALLIANCE PHARMA PLC   \n",
       "\n",
       "   icb_industry ice_supersector country_of_incorporation   market_cap eps p/e  \\\n",
       "4    Healthcare     Health Care           United Kingdom   221.041717   -   -   \n",
       "9    Healthcare     Health Care           United Kingdom  2011.595728   -   -   \n",
       "33   Healthcare     Health Care           United Kingdom   667.872077   -   -   \n",
       "34   Healthcare     Health Care           United Kingdom    22.257178   -   -   \n",
       "59   Healthcare     Health Care           United Kingdom   279.841478   -   -   \n",
       "\n",
       "   p/s  \n",
       "4    -  \n",
       "9    -  \n",
       "33   -  \n",
       "34   -  \n",
       "59   -  "
      ]
     },
     "execution_count": 165,
     "metadata": {},
     "output_type": "execute_result"
    }
   ],
   "source": [
    "req_lse.head()"
   ]
  },
  {
   "cell_type": "code",
   "execution_count": 167,
   "metadata": {},
   "outputs": [],
   "source": [
    "req_lse[\"market_cap\"]=req_lse['market_cap'].str.replace(';','')"
   ]
  },
  {
   "cell_type": "code",
   "execution_count": 169,
   "metadata": {},
   "outputs": [],
   "source": [
    "req_lse['market_cap']=req_lse.market_cap.astype(float)"
   ]
  },
  {
   "cell_type": "code",
   "execution_count": 168,
   "metadata": {},
   "outputs": [
    {
     "data": {
      "text/html": [
       "<div>\n",
       "<style scoped>\n",
       "    .dataframe tbody tr th:only-of-type {\n",
       "        vertical-align: middle;\n",
       "    }\n",
       "\n",
       "    .dataframe tbody tr th {\n",
       "        vertical-align: top;\n",
       "    }\n",
       "\n",
       "    .dataframe thead th {\n",
       "        text-align: right;\n",
       "    }\n",
       "</style>\n",
       "<table border=\"1\" class=\"dataframe\">\n",
       "  <thead>\n",
       "    <tr style=\"text-align: right;\">\n",
       "      <th></th>\n",
       "      <th>year</th>\n",
       "      <th>month</th>\n",
       "      <th>ticker</th>\n",
       "      <th>list_date</th>\n",
       "      <th>company_name</th>\n",
       "      <th>icb_industry</th>\n",
       "      <th>ice_supersector</th>\n",
       "      <th>country_of_incorporation</th>\n",
       "      <th>market_cap</th>\n",
       "      <th>eps</th>\n",
       "      <th>p/e</th>\n",
       "      <th>p/s</th>\n",
       "    </tr>\n",
       "  </thead>\n",
       "  <tbody>\n",
       "    <tr>\n",
       "      <th>4</th>\n",
       "      <td>2017</td>\n",
       "      <td>11</td>\n",
       "      <td>DDDD</td>\n",
       "      <td>2/18/14</td>\n",
       "      <td>4D PHARMA PLC</td>\n",
       "      <td>Healthcare</td>\n",
       "      <td>Health Care</td>\n",
       "      <td>United Kingdom</td>\n",
       "      <td>221.041717</td>\n",
       "      <td>-</td>\n",
       "      <td>-</td>\n",
       "      <td>-</td>\n",
       "    </tr>\n",
       "    <tr>\n",
       "      <th>9</th>\n",
       "      <td>2017</td>\n",
       "      <td>11</td>\n",
       "      <td>ABC</td>\n",
       "      <td>11-03-2005</td>\n",
       "      <td>ABCAM PLC</td>\n",
       "      <td>Healthcare</td>\n",
       "      <td>Health Care</td>\n",
       "      <td>United Kingdom</td>\n",
       "      <td>2011.595728</td>\n",
       "      <td>-</td>\n",
       "      <td>-</td>\n",
       "      <td>-</td>\n",
       "    </tr>\n",
       "    <tr>\n",
       "      <th>33</th>\n",
       "      <td>2017</td>\n",
       "      <td>11</td>\n",
       "      <td>AMS</td>\n",
       "      <td>4/30/02</td>\n",
       "      <td>ADVANCED MEDICAL SOLUTIONS GROUP PLC</td>\n",
       "      <td>Healthcare</td>\n",
       "      <td>Health Care</td>\n",
       "      <td>United Kingdom</td>\n",
       "      <td>667.872077</td>\n",
       "      <td>-</td>\n",
       "      <td>-</td>\n",
       "      <td>-</td>\n",
       "    </tr>\n",
       "    <tr>\n",
       "      <th>34</th>\n",
       "      <td>2017</td>\n",
       "      <td>11</td>\n",
       "      <td>AVO</td>\n",
       "      <td>08-04-2006</td>\n",
       "      <td>ADVANCED ONCOTHERAPY PLC</td>\n",
       "      <td>Healthcare</td>\n",
       "      <td>Health Care</td>\n",
       "      <td>United Kingdom</td>\n",
       "      <td>22.257178</td>\n",
       "      <td>-</td>\n",
       "      <td>-</td>\n",
       "      <td>-</td>\n",
       "    </tr>\n",
       "    <tr>\n",
       "      <th>59</th>\n",
       "      <td>2017</td>\n",
       "      <td>11</td>\n",
       "      <td>APH</td>\n",
       "      <td>12/17/15</td>\n",
       "      <td>ALLIANCE PHARMA PLC</td>\n",
       "      <td>Healthcare</td>\n",
       "      <td>Health Care</td>\n",
       "      <td>United Kingdom</td>\n",
       "      <td>279.841478</td>\n",
       "      <td>-</td>\n",
       "      <td>-</td>\n",
       "      <td>-</td>\n",
       "    </tr>\n",
       "  </tbody>\n",
       "</table>\n",
       "</div>"
      ],
      "text/plain": [
       "    year  month ticker   list_date                          company_name  \\\n",
       "4   2017     11   DDDD     2/18/14                         4D PHARMA PLC   \n",
       "9   2017     11    ABC  11-03-2005                             ABCAM PLC   \n",
       "33  2017     11    AMS     4/30/02  ADVANCED MEDICAL SOLUTIONS GROUP PLC   \n",
       "34  2017     11    AVO  08-04-2006              ADVANCED ONCOTHERAPY PLC   \n",
       "59  2017     11    APH    12/17/15                   ALLIANCE PHARMA PLC   \n",
       "\n",
       "   icb_industry ice_supersector country_of_incorporation   market_cap eps p/e  \\\n",
       "4    Healthcare     Health Care           United Kingdom   221.041717   -   -   \n",
       "9    Healthcare     Health Care           United Kingdom  2011.595728   -   -   \n",
       "33   Healthcare     Health Care           United Kingdom   667.872077   -   -   \n",
       "34   Healthcare     Health Care           United Kingdom    22.257178   -   -   \n",
       "59   Healthcare     Health Care           United Kingdom   279.841478   -   -   \n",
       "\n",
       "   p/s  \n",
       "4    -  \n",
       "9    -  \n",
       "33   -  \n",
       "34   -  \n",
       "59   -  "
      ]
     },
     "execution_count": 168,
     "metadata": {},
     "output_type": "execute_result"
    }
   ],
   "source": [
    "req_lse.head()"
   ]
  },
  {
   "cell_type": "code",
   "execution_count": 270,
   "metadata": {
    "scrolled": true
   },
   "outputs": [
    {
     "data": {
      "text/plain": [
       "Text(0, 0.5, 'Market Cap')"
      ]
     },
     "execution_count": 270,
     "metadata": {},
     "output_type": "execute_result"
    },
    {
     "data": {
      "image/png": "[encoded data removed]",
      "text/plain": [
       "<Figure size 432x288 with 1 Axes>"
      ]
     },
     "metadata": {
      "needs_background": "light"
     },
     "output_type": "display_data"
    }
   ],
   "source": [
    "req_lse.groupby(['year','month']).market_cap.mean().plot(title='Market Cap for Healthcare industry')\n",
    "plt.ylabel('Market Cap')"
   ]
  },
  {
   "cell_type": "code",
   "execution_count": 181,
   "metadata": {},
   "outputs": [],
   "source": [
    "req_lse_uk=req_lse[req_lse.country_of_incorporation.str.contains('United Kingdom')]\n",
    "\n",
    "req_lse_others=req_lse[~(req_lse.country_of_incorporation.str.contains('United Kingdom'))]"
   ]
  },
  {
   "cell_type": "code",
   "execution_count": 218,
   "metadata": {},
   "outputs": [],
   "source": [
    "req_lse_uk.to_csv(\"D:\\Machine Learning\\Datathon\\CleanData\\Market_UK.csv\")"
   ]
  },
  {
   "cell_type": "code",
   "execution_count": 219,
   "metadata": {},
   "outputs": [],
   "source": [
    "req_lse_others.to_csv(\"D:\\Machine Learning\\Datathon\\CleanData\\Market_Others.csv\")"
   ]
  },
  {
   "cell_type": "code",
   "execution_count": 274,
   "metadata": {
    "scrolled": true
   },
   "outputs": [
    {
     "data": {
      "text/plain": [
       "<matplotlib.legend.Legend at 0x1c6bb4467f0>"
      ]
     },
     "execution_count": 274,
     "metadata": {},
     "output_type": "execute_result"
    },
    {
     "data": {
      "image/png": "[encoded data removed]",
      "text/plain": [
       "<Figure size 432x288 with 1 Axes>"
      ]
     },
     "metadata": {
      "needs_background": "light"
     },
     "output_type": "display_data"
    }
   ],
   "source": [
    "req_lse_uk.groupby(['year','month']).market_cap.mean().plot()\n",
    "req_lse_others.groupby(['year','month']).market_cap.mean().plot()\n",
    "plt.title('Market capitalisation for healthcare')\n",
    "plt.ylabel('Market Cap (mean)')\n",
    "plt.legend(['UK incorporation','Others'])"
   ]
  },
  {
   "cell_type": "markdown",
   "metadata": {},
   "source": [
    "## Immigrants"
   ]
  },
  {
   "cell_type": "code",
   "execution_count": 220,
   "metadata": {},
   "outputs": [],
   "source": [
    "immig=pd.read_csv(\"immigrant_statistics.csv\")"
   ]
  },
  {
   "cell_type": "code",
   "execution_count": 221,
   "metadata": {},
   "outputs": [],
   "source": [
    "import numpy as np"
   ]
  },
  {
   "cell_type": "code",
   "execution_count": 222,
   "metadata": {},
   "outputs": [
    {
     "data": {
      "text/plain": [
       "(47, 265)"
      ]
     },
     "execution_count": 222,
     "metadata": {},
     "output_type": "execute_result"
    }
   ],
   "source": [
    "immig.shape"
   ]
  },
  {
   "cell_type": "code",
   "execution_count": 225,
   "metadata": {},
   "outputs": [],
   "source": [
    "immig['Sum']=immig.sum(axis=1)"
   ]
  },
  {
   "cell_type": "code",
   "execution_count": 232,
   "metadata": {},
   "outputs": [
    {
     "data": {
      "text/plain": [
       "Index(['Year', 'Quarter', 'AFN', 'AFS', 'AFN.1', 'ACS', 'ACE', 'AEA', 'ASO',\n",
       "       'ASE',\n",
       "       ...\n",
       "       'ACS-VNZ', 'ASE-VTN', 'OTH-VIB', 'AMN-VIU', 'OCE-WAF', 'AFN-WSH',\n",
       "       'MIE-YMN', 'AFS-ZMB', 'AFS-ZBW', 'Sum'],\n",
       "      dtype='object', length=266)"
      ]
     },
     "execution_count": 232,
     "metadata": {},
     "output_type": "execute_result"
    }
   ],
   "source": [
    "immig.columns"
   ]
  },
  {
   "cell_type": "code",
   "execution_count": 276,
   "metadata": {},
   "outputs": [
    {
     "data": {
      "text/plain": [
       "<matplotlib.axes._subplots.AxesSubplot at 0x1c6bb4f8be0>"
      ]
     },
     "execution_count": 276,
     "metadata": {},
     "output_type": "execute_result"
    },
    {
     "data": {
      "image/png": "[encoded data removed]",
      "text/plain": [
       "<Figure size 432x288 with 1 Axes>"
      ]
     },
     "metadata": {
      "needs_background": "light"
     },
     "output_type": "display_data"
    }
   ],
   "source": [
    "immig.groupby(['Year','Quarter']).Sum.mean().plot()\n",
    "plt.title('Immigrants trend')\n",
    "plt.ylabel('')"
   ]
  },
  {
   "cell_type": "code",
   "execution_count": 295,
   "metadata": {},
   "outputs": [],
   "source": [
    "req_columns=['Year','Quarter','EU1','EU2','EU8','EU1-AUS','EU1-BLG','EU2-BLG','EU8-CZR','EU1-DEN','EU8-EST','EU1-FIN','EU1-FRA','EU1-GER','EU1-GRE','EU8-HNG']"
   ]
  },
  {
   "cell_type": "code",
   "execution_count": 289,
   "metadata": {},
   "outputs": [],
   "source": [
    "immig_EU=pd.read_csv(\"immigrant_statistics.csv\", usecols=req_columns)"
   ]
  },
  {
   "cell_type": "code",
   "execution_count": 290,
   "metadata": {},
   "outputs": [
    {
     "data": {
      "text/plain": [
       "(47, 16)"
      ]
     },
     "execution_count": 290,
     "metadata": {},
     "output_type": "execute_result"
    }
   ],
   "source": [
    "immig_EU.shape"
   ]
  },
  {
   "cell_type": "code",
   "execution_count": 291,
   "metadata": {},
   "outputs": [],
   "source": [
    "immig_EU['Sum']=immig_EU.sum(axis=1)"
   ]
  },
  {
   "cell_type": "code",
   "execution_count": 293,
   "metadata": {},
   "outputs": [
    {
     "data": {
      "text/plain": [
       "Text(0, 0.5, '')"
      ]
     },
     "execution_count": 293,
     "metadata": {},
     "output_type": "execute_result"
    },
    {
     "data": {
      "image/png": "[encoded data removed]",
      "text/plain": [
       "<Figure size 432x288 with 1 Axes>"
      ]
     },
     "metadata": {
      "needs_background": "light"
     },
     "output_type": "display_data"
    }
   ],
   "source": [
    "immig_EU.groupby(['Year','Quarter']).Sum.mean().plot()\n",
    "plt.title('Immigrants trend for EU')\n",
    "plt.ylabel('')"
   ]
  },
  {
   "cell_type": "code",
   "execution_count": 294,
   "metadata": {},
   "outputs": [],
   "source": [
    "immig_EU['Others']=immig['Sum']-immig_EU['Sum']"
   ]
  },
  {
   "cell_type": "code",
   "execution_count": 300,
   "metadata": {},
   "outputs": [
    {
     "data": {
      "text/plain": [
       "<matplotlib.legend.Legend at 0x1c6bd7755f8>"
      ]
     },
     "execution_count": 300,
     "metadata": {},
     "output_type": "execute_result"
    },
    {
     "data": {
      "image/png": "[encoded data removed]",
      "text/plain": [
       "<Figure size 432x288 with 1 Axes>"
      ]
     },
     "metadata": {
      "needs_background": "light"
     },
     "output_type": "display_data"
    }
   ],
   "source": [
    "immig_EU.groupby(['Year','Quarter']).Sum.mean().plot()\n",
    "immig_EU.groupby(['Year','Quarter']).Others.mean().plot()\n",
    "plt.title('Immigrants trend for EU and Others')\n",
    "plt.ylabel('Number of immigrants(mean)')\n",
    "plt.legend(['EU','Others'])"
   ]
  },
  {
   "cell_type": "markdown",
   "metadata": {},
   "source": [
    "## Correlate Immigrants and Research Scientists"
   ]
  },
  {
   "cell_type": "code",
   "execution_count": 302,
   "metadata": {},
   "outputs": [],
   "source": [
    "female2 =np.asarray([29914.0,32826.0,39683.0,50454.0,56091.0,48965.0,40982.0,43345.0])\n",
    "male2 = np.asarray([29070.0,28560.0,27063.0,42432.0,38311.0,50602.0,32288.0,33428.0])"
   ]
  },
  {
   "cell_type": "code",
   "execution_count": 303,
   "metadata": {},
   "outputs": [],
   "source": [
    "RS=female2+male2"
   ]
  },
  {
   "cell_type": "code",
   "execution_count": 319,
   "metadata": {},
   "outputs": [
    {
     "data": {
      "text/plain": [
       "(8,)"
      ]
     },
     "execution_count": 319,
     "metadata": {},
     "output_type": "execute_result"
    }
   ],
   "source": [
    "RS.shape"
   ]
  },
  {
   "cell_type": "code",
   "execution_count": 308,
   "metadata": {},
   "outputs": [
    {
     "data": {
      "text/plain": [
       "(47, 18)"
      ]
     },
     "execution_count": 308,
     "metadata": {},
     "output_type": "execute_result"
    }
   ],
   "source": [
    "immig_EU.shape"
   ]
  },
  {
   "cell_type": "code",
   "execution_count": 321,
   "metadata": {},
   "outputs": [
    {
     "data": {
      "text/plain": [
       "(12,)"
      ]
     },
     "execution_count": 321,
     "metadata": {},
     "output_type": "execute_result"
    }
   ],
   "source": [
    "immig_EU.groupby('Year').Sum.mean().shape"
   ]
  },
  {
   "cell_type": "code",
   "execution_count": 332,
   "metadata": {},
   "outputs": [],
   "source": [
    "immig_EU_ReqYr=immig_EU.groupby('Year').Sum.mean()[4:12]"
   ]
  },
  {
   "cell_type": "code",
   "execution_count": 354,
   "metadata": {},
   "outputs": [
    {
     "data": {
      "text/plain": [
       "Year\n",
       "2011    12357.000000\n",
       "2012    10838.500000\n",
       "2013    11622.000000\n",
       "2014     8001.000000\n",
       "2015     8374.500000\n",
       "2016     7567.750000\n",
       "2017     8572.500000\n",
       "2018     9950.333333\n",
       "Name: Others, dtype: float64"
      ]
     },
     "execution_count": 354,
     "metadata": {},
     "output_type": "execute_result"
    }
   ],
   "source": [
    "immig_EU.groupby('Year').Others.mean()[4:12]"
   ]
  },
  {
   "cell_type": "code",
   "execution_count": 353,
   "metadata": {},
   "outputs": [
    {
     "data": {
      "text/plain": [
       "dtype('float64')"
      ]
     },
     "execution_count": 353,
     "metadata": {},
     "output_type": "execute_result"
    }
   ],
   "source": [
    "immig_Others_ReqYr=pd."
   ]
  },
  {
   "cell_type": "code",
   "execution_count": 329,
   "metadata": {},
   "outputs": [],
   "source": [
    "import scipy"
   ]
  },
  {
   "cell_type": "code",
   "execution_count": 337,
   "metadata": {},
   "outputs": [
    {
     "data": {
      "text/plain": [
       "array([5.84919208e+09])"
      ]
     },
     "execution_count": 337,
     "metadata": {},
     "output_type": "execute_result"
    }
   ],
   "source": [
    "scipy.correlate(immig_Others_ReqYr, RS)"
   ]
  },
  {
   "cell_type": "code",
   "execution_count": 339,
   "metadata": {},
   "outputs": [
    {
     "ename": "AttributeError",
     "evalue": "'numpy.ndarray' object has no attribute 'plot'",
     "output_type": "error",
     "traceback": [
      "\u001b[1;31m---------------------------------------------------------------------------\u001b[0m",
      "\u001b[1;31mAttributeError\u001b[0m                            Traceback (most recent call last)",
      "\u001b[1;32m<ipython-input-339-3322087e8067>\u001b[0m in \u001b[0;36m<module>\u001b[1;34m\u001b[0m\n\u001b[0;32m      1\u001b[0m \u001b[0mimmig_EU\u001b[0m\u001b[1;33m.\u001b[0m\u001b[0mgroupby\u001b[0m\u001b[1;33m(\u001b[0m\u001b[1;34m'Year'\u001b[0m\u001b[1;33m)\u001b[0m\u001b[1;33m.\u001b[0m\u001b[0mOthers\u001b[0m\u001b[1;33m.\u001b[0m\u001b[0mmean\u001b[0m\u001b[1;33m(\u001b[0m\u001b[1;33m)\u001b[0m\u001b[1;33m[\u001b[0m\u001b[1;36m4\u001b[0m\u001b[1;33m:\u001b[0m\u001b[1;36m12\u001b[0m\u001b[1;33m]\u001b[0m\u001b[1;33m.\u001b[0m\u001b[0mplot\u001b[0m\u001b[1;33m(\u001b[0m\u001b[1;33m)\u001b[0m\u001b[1;33m\u001b[0m\u001b[1;33m\u001b[0m\u001b[0m\n\u001b[1;32m----> 2\u001b[1;33m \u001b[0mRS\u001b[0m\u001b[1;33m.\u001b[0m\u001b[0mplot\u001b[0m\u001b[1;33m(\u001b[0m\u001b[1;33m)\u001b[0m\u001b[1;33m\u001b[0m\u001b[1;33m\u001b[0m\u001b[0m\n\u001b[0m",
      "\u001b[1;31mAttributeError\u001b[0m: 'numpy.ndarray' object has no attribute 'plot'"
     ]
    },
    {
     "data": {
      "image/png": "[encoded data removed]",
      "text/plain": [
       "<Figure size 432x288 with 1 Axes>"
      ]
     },
     "metadata": {
      "needs_background": "light"
     },
     "output_type": "display_data"
    }
   ],
   "source": [
    "immig_EU.groupby('Year').Others.mean()[4:12].plot()\n"
   ]
  },
  {
   "cell_type": "code",
   "execution_count": 340,
   "metadata": {},
   "outputs": [
    {
     "data": {
      "text/plain": [
       "array([58984., 61386., 66746., 92886., 94402., 99567., 73270., 76773.])"
      ]
     },
     "execution_count": 340,
     "metadata": {},
     "output_type": "execute_result"
    }
   ],
   "source": [
    "RS"
   ]
  },
  {
   "cell_type": "code",
   "execution_count": 341,
   "metadata": {},
   "outputs": [],
   "source": [
    "data = [[58984, 2011], [61386, 2012], [66746, 2013],[92886,2014],[94402,2015],[99567,2016],[73270,2017],[76773,2018]] \n",
    "  \n",
    "# Create the pandas DataFrame \n",
    "df = pd.DataFrame(data, columns = ['Res_Sct', 'Year']) "
   ]
  },
  {
   "cell_type": "code",
   "execution_count": 344,
   "metadata": {},
   "outputs": [
    {
     "data": {
      "text/plain": [
       "<matplotlib.axes._subplots.AxesSubplot at 0x1c6bf6e2438>"
      ]
     },
     "execution_count": 344,
     "metadata": {},
     "output_type": "execute_result"
    },
    {
     "data": {
      "image/png": "[encoded data removed]",
      "text/plain": [
       "<Figure size 432x288 with 1 Axes>"
      ]
     },
     "metadata": {
      "needs_background": "light"
     },
     "output_type": "display_data"
    }
   ],
   "source": [
    "df.groupby('Year').Res_Sct.mean().plot()\n",
    "immig_EU.groupby('Year').Others.mean()[4:12].plot()"
   ]
  },
  {
   "cell_type": "code",
   "execution_count": 350,
   "metadata": {},
   "outputs": [
    {
     "ename": "AttributeError",
     "evalue": "'Series' object has no attribute 'columns'",
     "output_type": "error",
     "traceback": [
      "\u001b[1;31m---------------------------------------------------------------------------\u001b[0m",
      "\u001b[1;31mAttributeError\u001b[0m                            Traceback (most recent call last)",
      "\u001b[1;32m<ipython-input-350-d3e0d7c818d0>\u001b[0m in \u001b[0;36m<module>\u001b[1;34m\u001b[0m\n\u001b[1;32m----> 1\u001b[1;33m \u001b[0mimmig_Others_ReqYr\u001b[0m\u001b[1;33m.\u001b[0m\u001b[0mcolumns\u001b[0m\u001b[1;33m\u001b[0m\u001b[1;33m\u001b[0m\u001b[0m\n\u001b[0m",
      "\u001b[1;32m~\\Anaconda3\\lib\\site-packages\\pandas\\core\\generic.py\u001b[0m in \u001b[0;36m__getattr__\u001b[1;34m(self, name)\u001b[0m\n\u001b[0;32m   5061\u001b[0m         if (name in self._internal_names_set or name in self._metadata or\n\u001b[0;32m   5062\u001b[0m                 name in self._accessors):\n\u001b[1;32m-> 5063\u001b[1;33m             \u001b[1;32mreturn\u001b[0m \u001b[0mobject\u001b[0m\u001b[1;33m.\u001b[0m\u001b[0m__getattribute__\u001b[0m\u001b[1;33m(\u001b[0m\u001b[0mself\u001b[0m\u001b[1;33m,\u001b[0m \u001b[0mname\u001b[0m\u001b[1;33m)\u001b[0m\u001b[1;33m\u001b[0m\u001b[1;33m\u001b[0m\u001b[0m\n\u001b[0m\u001b[0;32m   5064\u001b[0m         \u001b[1;32melse\u001b[0m\u001b[1;33m:\u001b[0m\u001b[1;33m\u001b[0m\u001b[1;33m\u001b[0m\u001b[0m\n\u001b[0;32m   5065\u001b[0m             \u001b[1;32mif\u001b[0m \u001b[0mself\u001b[0m\u001b[1;33m.\u001b[0m\u001b[0m_info_axis\u001b[0m\u001b[1;33m.\u001b[0m\u001b[0m_can_hold_identifiers_and_holds_name\u001b[0m\u001b[1;33m(\u001b[0m\u001b[0mname\u001b[0m\u001b[1;33m)\u001b[0m\u001b[1;33m:\u001b[0m\u001b[1;33m\u001b[0m\u001b[1;33m\u001b[0m\u001b[0m\n",
      "\u001b[1;31mAttributeError\u001b[0m: 'Series' object has no attribute 'columns'"
     ]
    }
   ],
   "source": []
  },
  {
   "cell_type": "code",
   "execution_count": 349,
   "metadata": {},
   "outputs": [
    {
     "ename": "KeyError",
     "evalue": "'Others'",
     "output_type": "error",
     "traceback": [
      "\u001b[1;31m---------------------------------------------------------------------------\u001b[0m",
      "\u001b[1;31mKeyError\u001b[0m                                  Traceback (most recent call last)",
      "\u001b[1;32m<ipython-input-349-33693dadf0b7>\u001b[0m in \u001b[0;36m<module>\u001b[1;34m\u001b[0m\n\u001b[1;32m----> 1\u001b[1;33m \u001b[0mdf_new\u001b[0m\u001b[1;33m[\u001b[0m\u001b[1;34m'Others'\u001b[0m\u001b[1;33m]\u001b[0m\u001b[1;33m=\u001b[0m\u001b[0mimmig_Others_ReqYr\u001b[0m\u001b[1;33m[\u001b[0m\u001b[1;34m'Others'\u001b[0m\u001b[1;33m]\u001b[0m\u001b[1;33m\u001b[0m\u001b[1;33m\u001b[0m\u001b[0m\n\u001b[0m",
      "\u001b[1;32m~\\Anaconda3\\lib\\site-packages\\pandas\\core\\series.py\u001b[0m in \u001b[0;36m__getitem__\u001b[1;34m(self, key)\u001b[0m\n\u001b[0;32m    866\u001b[0m         \u001b[0mkey\u001b[0m \u001b[1;33m=\u001b[0m \u001b[0mcom\u001b[0m\u001b[1;33m.\u001b[0m\u001b[0mapply_if_callable\u001b[0m\u001b[1;33m(\u001b[0m\u001b[0mkey\u001b[0m\u001b[1;33m,\u001b[0m \u001b[0mself\u001b[0m\u001b[1;33m)\u001b[0m\u001b[1;33m\u001b[0m\u001b[1;33m\u001b[0m\u001b[0m\n\u001b[0;32m    867\u001b[0m         \u001b[1;32mtry\u001b[0m\u001b[1;33m:\u001b[0m\u001b[1;33m\u001b[0m\u001b[1;33m\u001b[0m\u001b[0m\n\u001b[1;32m--> 868\u001b[1;33m             \u001b[0mresult\u001b[0m \u001b[1;33m=\u001b[0m \u001b[0mself\u001b[0m\u001b[1;33m.\u001b[0m\u001b[0mindex\u001b[0m\u001b[1;33m.\u001b[0m\u001b[0mget_value\u001b[0m\u001b[1;33m(\u001b[0m\u001b[0mself\u001b[0m\u001b[1;33m,\u001b[0m \u001b[0mkey\u001b[0m\u001b[1;33m)\u001b[0m\u001b[1;33m\u001b[0m\u001b[1;33m\u001b[0m\u001b[0m\n\u001b[0m\u001b[0;32m    869\u001b[0m \u001b[1;33m\u001b[0m\u001b[0m\n\u001b[0;32m    870\u001b[0m             \u001b[1;32mif\u001b[0m \u001b[1;32mnot\u001b[0m \u001b[0mis_scalar\u001b[0m\u001b[1;33m(\u001b[0m\u001b[0mresult\u001b[0m\u001b[1;33m)\u001b[0m\u001b[1;33m:\u001b[0m\u001b[1;33m\u001b[0m\u001b[1;33m\u001b[0m\u001b[0m\n",
      "\u001b[1;32m~\\Anaconda3\\lib\\site-packages\\pandas\\core\\indexes\\base.py\u001b[0m in \u001b[0;36mget_value\u001b[1;34m(self, series, key)\u001b[0m\n\u001b[0;32m   4373\u001b[0m         \u001b[1;32mtry\u001b[0m\u001b[1;33m:\u001b[0m\u001b[1;33m\u001b[0m\u001b[1;33m\u001b[0m\u001b[0m\n\u001b[0;32m   4374\u001b[0m             return self._engine.get_value(s, k,\n\u001b[1;32m-> 4375\u001b[1;33m                                           tz=getattr(series.dtype, 'tz', None))\n\u001b[0m\u001b[0;32m   4376\u001b[0m         \u001b[1;32mexcept\u001b[0m \u001b[0mKeyError\u001b[0m \u001b[1;32mas\u001b[0m \u001b[0me1\u001b[0m\u001b[1;33m:\u001b[0m\u001b[1;33m\u001b[0m\u001b[1;33m\u001b[0m\u001b[0m\n\u001b[0;32m   4377\u001b[0m             \u001b[1;32mif\u001b[0m \u001b[0mlen\u001b[0m\u001b[1;33m(\u001b[0m\u001b[0mself\u001b[0m\u001b[1;33m)\u001b[0m \u001b[1;33m>\u001b[0m \u001b[1;36m0\u001b[0m \u001b[1;32mand\u001b[0m \u001b[1;33m(\u001b[0m\u001b[0mself\u001b[0m\u001b[1;33m.\u001b[0m\u001b[0mholds_integer\u001b[0m\u001b[1;33m(\u001b[0m\u001b[1;33m)\u001b[0m \u001b[1;32mor\u001b[0m \u001b[0mself\u001b[0m\u001b[1;33m.\u001b[0m\u001b[0mis_boolean\u001b[0m\u001b[1;33m(\u001b[0m\u001b[1;33m)\u001b[0m\u001b[1;33m)\u001b[0m\u001b[1;33m:\u001b[0m\u001b[1;33m\u001b[0m\u001b[1;33m\u001b[0m\u001b[0m\n",
      "\u001b[1;32mpandas/_libs/index.pyx\u001b[0m in \u001b[0;36mpandas._libs.index.IndexEngine.get_value\u001b[1;34m()\u001b[0m\n",
      "\u001b[1;32mpandas/_libs/index.pyx\u001b[0m in \u001b[0;36mpandas._libs.index.IndexEngine.get_value\u001b[1;34m()\u001b[0m\n",
      "\u001b[1;32mpandas/_libs/index.pyx\u001b[0m in \u001b[0;36mpandas._libs.index.IndexEngine.get_loc\u001b[1;34m()\u001b[0m\n",
      "\u001b[1;32mpandas/_libs/index_class_helper.pxi\u001b[0m in \u001b[0;36mpandas._libs.index.Int64Engine._check_type\u001b[1;34m()\u001b[0m\n",
      "\u001b[1;31mKeyError\u001b[0m: 'Others'"
     ]
    }
   ],
   "source": [
    "df_new['Others']=immig_Others_ReqYr['Others']"
   ]
  },
  {
   "cell_type": "code",
   "execution_count": 356,
   "metadata": {},
   "outputs": [
    {
     "data": {
      "text/plain": [
       "Year\n",
       "2011    12357.000000\n",
       "2012    10838.500000\n",
       "2013    11622.000000\n",
       "2014     8001.000000\n",
       "2015     8374.500000\n",
       "2016     7567.750000\n",
       "2017     8572.500000\n",
       "2018     9950.333333\n",
       "Name: Others, dtype: float64"
      ]
     },
     "execution_count": 356,
     "metadata": {},
     "output_type": "execute_result"
    }
   ],
   "source": [
    "immig_EU.groupby('Year').Others.mean()[4:12]"
   ]
  },
  {
   "cell_type": "code",
   "execution_count": 357,
   "metadata": {},
   "outputs": [],
   "source": [
    "data = [[58984, 12357], [61386, 10838], [66746, 11622],[92886,8001],[94402,8374],[99567,7567],[73270,8572],[76773,9950]]"
   ]
  },
  {
   "cell_type": "code",
   "execution_count": 358,
   "metadata": {},
   "outputs": [],
   "source": [
    "# Create the pandas DataFrame \n",
    "df = pd.DataFrame(data, columns = ['Res_Sct', 'Others']) "
   ]
  },
  {
   "cell_type": "code",
   "execution_count": 361,
   "metadata": {},
   "outputs": [
    {
     "data": {
      "text/html": [
       "<div>\n",
       "<style scoped>\n",
       "    .dataframe tbody tr th:only-of-type {\n",
       "        vertical-align: middle;\n",
       "    }\n",
       "\n",
       "    .dataframe tbody tr th {\n",
       "        vertical-align: top;\n",
       "    }\n",
       "\n",
       "    .dataframe thead th {\n",
       "        text-align: right;\n",
       "    }\n",
       "</style>\n",
       "<table border=\"1\" class=\"dataframe\">\n",
       "  <thead>\n",
       "    <tr style=\"text-align: right;\">\n",
       "      <th></th>\n",
       "      <th>Res_Sct</th>\n",
       "      <th>Others</th>\n",
       "    </tr>\n",
       "  </thead>\n",
       "  <tbody>\n",
       "    <tr>\n",
       "      <th>0</th>\n",
       "      <td>58984</td>\n",
       "      <td>12357</td>\n",
       "    </tr>\n",
       "    <tr>\n",
       "      <th>1</th>\n",
       "      <td>61386</td>\n",
       "      <td>10838</td>\n",
       "    </tr>\n",
       "    <tr>\n",
       "      <th>2</th>\n",
       "      <td>66746</td>\n",
       "      <td>11622</td>\n",
       "    </tr>\n",
       "    <tr>\n",
       "      <th>3</th>\n",
       "      <td>92886</td>\n",
       "      <td>8001</td>\n",
       "    </tr>\n",
       "    <tr>\n",
       "      <th>4</th>\n",
       "      <td>94402</td>\n",
       "      <td>8374</td>\n",
       "    </tr>\n",
       "    <tr>\n",
       "      <th>5</th>\n",
       "      <td>99567</td>\n",
       "      <td>7567</td>\n",
       "    </tr>\n",
       "    <tr>\n",
       "      <th>6</th>\n",
       "      <td>73270</td>\n",
       "      <td>8572</td>\n",
       "    </tr>\n",
       "    <tr>\n",
       "      <th>7</th>\n",
       "      <td>76773</td>\n",
       "      <td>9950</td>\n",
       "    </tr>\n",
       "  </tbody>\n",
       "</table>\n",
       "</div>"
      ],
      "text/plain": [
       "   Res_Sct  Others\n",
       "0    58984   12357\n",
       "1    61386   10838\n",
       "2    66746   11622\n",
       "3    92886    8001\n",
       "4    94402    8374\n",
       "5    99567    7567\n",
       "6    73270    8572\n",
       "7    76773    9950"
      ]
     },
     "execution_count": 361,
     "metadata": {},
     "output_type": "execute_result"
    }
   ],
   "source": [
    "df"
   ]
  },
  {
   "cell_type": "code",
   "execution_count": 370,
   "metadata": {},
   "outputs": [
    {
     "data": {
      "text/plain": [
       "Text(0, 0.5, 'Research Scientists')"
      ]
     },
     "execution_count": 370,
     "metadata": {},
     "output_type": "execute_result"
    },
    {
     "data": {
      "image/png": "[encoded data removed]",
      "text/plain": [
       "<Figure size 432x288 with 1 Axes>"
      ]
     },
     "metadata": {
      "needs_background": "light"
     },
     "output_type": "display_data"
    }
   ],
   "source": [
    "df.plot(x ='Res_Sct', y='Others',kind='scatter')\n",
    "plt.title(\"Relationship between research scientist and Immigrants outside EU from 2011-18\")\n",
    "plt.xlabel(\"Immigrants from outside EU\")\n",
    "plt.ylabel(\"Research Scientists\")"
   ]
  },
  {
   "cell_type": "code",
   "execution_count": null,
   "metadata": {},
   "outputs": [],
   "source": []
  }
 ],
 "metadata": {
  "kernelspec": {
   "display_name": "Python 3",
   "language": "python",
   "name": "python3"
  },
  "language_info": {
   "codemirror_mode": {
    "name": "ipython",
    "version": 3
   },
   "file_extension": ".py",
   "mimetype": "text/x-python",
   "name": "python",
   "nbconvert_exporter": "python",
   "pygments_lexer": "ipython3",
   "version": "3.7.3"
  }
 },
 "nbformat": 4,
 "nbformat_minor": 2
}
